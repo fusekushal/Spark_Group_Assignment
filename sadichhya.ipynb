{
 "cells": [
  {
   "cell_type": "code",
   "execution_count": 11,
   "metadata": {},
   "outputs": [],
   "source": [
    "from pyspark.sql import SparkSession\n",
    "from pyspark.sql.functions import when, col"
   ]
  },
  {
   "cell_type": "code",
   "execution_count": 12,
   "metadata": {},
   "outputs": [],
   "source": [
    "# Initialize a Spark session\n",
    "spark = SparkSession.builder.appName(\"DataTransformation\").getOrCreate()"
   ]
  },
  {
   "cell_type": "markdown",
   "metadata": {},
   "source": [
    "**Reading csv**\n"
   ]
  },
  {
   "cell_type": "code",
   "execution_count": 6,
   "metadata": {},
   "outputs": [
    {
     "name": "stderr",
     "output_type": "stream",
     "text": [
      "                                                                                \r"
     ]
    }
   ],
   "source": [
    "#reading csv file\n",
    "listing_df = spark.read.csv('cleaned_data/clean_listing_csv/', header=True, inferSchema=True)\n",
    "review_df = spark.read.csv('cleaned_data/clean_reviews_csv/', header=True, inferSchema=True)\n",
    "calender_df = spark.read.csv('cleaned_data/clean0_calendar_csv/', header=True, inferSchema=True)\n",
    "\n",
    "\n"
   ]
  },
  {
   "cell_type": "code",
   "execution_count": 10,
   "metadata": {},
   "outputs": [
    {
     "name": "stdout",
     "output_type": "stream",
     "text": [
      "+--------------------+--------------------+--------------------+--------------------+--------------------+--------------------+--------------------+--------------------+--------------------+--------------------+--------------------+-----------------+--------------------+--------------------+--------------------+--------------------+--------------------+--------------------+---------------+------------+---------+--------+-------+-----------------+\n",
      "|                  id|         listing_url|                name|               space|         description|           host_name|       host_location|          host_about|  host_response_time|  host_response_rate|host_acceptance_rate|host_is_superhost|          host_since|              street|                city|               state|             zipcode|       property_type|      room_type|accommodates|bathrooms|bedrooms|  price|number_of_reviews|\n",
      "+--------------------+--------------------+--------------------+--------------------+--------------------+--------------------+--------------------+--------------------+--------------------+--------------------+--------------------+-----------------+--------------------+--------------------+--------------------+--------------------+--------------------+--------------------+---------------+------------+---------+--------+-------+-----------------+\n",
      "|            12147973|https://www.airbn...|Sunny Bungalow in...|The house has an ...|Cozy, sunny, fami...|            Virginia|Boston, Massachus...|We are country an...|                 N/A|                 N/A|                 N/A|            false|          2015-04-15|Birch Street, Bos...|              Boston|                  MA|                2131|               House|Entire home/apt|           4|      1.5|       2|$250.00|                0|\n",
      "|             3075044|https://www.airbn...|Charming room in ...|Small but cozy an...|Charming and quie...|              Andrea|Boston, Massachus...|I live in Boston ...|      within an hour|                100%|                100%|            false|          2012-06-07|Pinehurst Street,...|              Boston|                  MA|                2131|           Apartment|   Private room|           2|        1|       1| $65.00|               36|\n",
      "|                6976|https://www.airbn...|Mexican Folk Art ...|\"Come stay with a...|not a Queen or a ...|but if it is two ...|you can fit two i...|or the second per...|on the long couch...|but comfortable)....|\"Come stay with a...|            false|but if it is two ...|you can fit two i...|or the second per...|on the long couch...|but comfortable)....|I am a middle-age...|           null|        null|     null|    null|   null|             null|\n",
      "|        In the 1980s|I was a publicist...|and have presente...|          Laura Nyro|            Tom Rush|Barbara Cook and ...|                null|      No description|                null|                null|                null|            false|                null|                null|                null|                null|                null|                null|           null|        null|     null|    null|   null|             null|\n",
      "|\",within a few ho...|              Boston|            MA 02131|              Boston|                  MA|                2131|              Boston|       United States|           Apartment|        Private room|                   2|            false|                   1|              $65.00|                  41|                null|                null|                null|           null|        null|     null|    null|   null|             null|\n",
      "|             1436513|https://www.airbn...|Spacious Sunny Be...|Most places you f...|Come experience t...|              Meghna|Boston, Massachus...|My husband and I ...|                null|                null|                null|            false|                null|                null|                null|                null|                null|                null|           null|        null|     null|    null|   null|             null|\n",
      "|We want you too f...|we will provide y...|meeting friends/f...|              cereal|               bread|              butter|                 jam|eggs and milk alo...|  within a few hours|                100%|                 50%|            false|          2013-04-21|Boston, MA, Unite...|              Boston|                  MA|                null|               House|   Private room|           4|        1|       1| $75.00|                1|\n",
      "|             7651065|https://www.airbn...| Come Home to Boston|Clean, attractive...|\"My comfy, clean ...|               Linda|Boston, Massachus...|I work full time ...|                null|                null|                null|            false|                null|                null|                null|                null|                null|                null|           null|        null|     null|    null|   null|             null|\n",
      "|My hosting style ...|      within an hour|                100%|                   t|          2014-05-11|Durnell Avenue, B...|              Boston|                  MA|                2131|              Boston|       United States|            false|        Private room|                   2|                 1.5|                   1|              $79.00|                null|           null|        null|     null|    null|   null|             null|\n",
      "|            12386020|https://www.airbn...|Private Bedroom +...|Our sunny condo i...|Super comfy bedro...|             Deborah|Boston, Massachus...|      No description|  within a few hours|                100%|                 95%|             true|          2016-03-23|Walter Street, Bo...|              Boston|                  MA|                2131|         Condominium|   Private room|           2|        1|       1| $75.00|                8|\n",
      "+--------------------+--------------------+--------------------+--------------------+--------------------+--------------------+--------------------+--------------------+--------------------+--------------------+--------------------+-----------------+--------------------+--------------------+--------------------+--------------------+--------------------+--------------------+---------------+------------+---------+--------+-------+-----------------+\n",
      "only showing top 10 rows\n",
      "\n"
     ]
    }
   ],
   "source": [
    "listing_df.show(10)"
   ]
  },
  {
   "cell_type": "markdown",
   "metadata": {},
   "source": []
  }
 ],
 "metadata": {
  "kernelspec": {
   "display_name": "venv",
   "language": "python",
   "name": "python3"
  },
  "language_info": {
   "codemirror_mode": {
    "name": "ipython",
    "version": 3
   },
   "file_extension": ".py",
   "mimetype": "text/x-python",
   "name": "python",
   "nbconvert_exporter": "python",
   "pygments_lexer": "ipython3",
   "version": "3.10.12"
  },
  "orig_nbformat": 4
 },
 "nbformat": 4,
 "nbformat_minor": 2
}
